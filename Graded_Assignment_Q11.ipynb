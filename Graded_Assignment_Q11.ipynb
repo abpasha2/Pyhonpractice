{
 "cells": [
  {
   "cell_type": "markdown",
   "id": "66dcd508",
   "metadata": {},
   "source": [
    "## Graded Assignment - 2"
   ]
  },
  {
   "cell_type": "raw",
   "id": "a583fdf5",
   "metadata": {},
   "source": [
    "###  Q11. Write down the PDF function assuming it is gaussian normal for AMT_INCOME_TOTAL. (5 mark)"
   ]
  },
  {
   "cell_type": "code",
   "execution_count": 1,
   "id": "b1736d37",
   "metadata": {},
   "outputs": [],
   "source": [
    "# Importing required supporting libraries\n",
    "import numpy as np\n",
    "import pandas as pd"
   ]
  },
  {
   "cell_type": "code",
   "execution_count": 2,
   "id": "5f665585",
   "metadata": {},
   "outputs": [],
   "source": [
    "# Creating DF object fromn the Application records\n",
    "\n",
    "df = pd.read_csv('C:\\AI-ML\\SampleData\\Application_record.csv')\n"
   ]
  },
  {
   "cell_type": "code",
   "execution_count": 3,
   "id": "91b1fdb0",
   "metadata": {},
   "outputs": [
    {
     "data": {
      "text/plain": [
       "count    4.385570e+05\n",
       "mean     1.875243e+05\n",
       "std      1.100869e+05\n",
       "min      2.610000e+04\n",
       "25%      1.215000e+05\n",
       "50%      1.607805e+05\n",
       "75%      2.250000e+05\n",
       "max      6.750000e+06\n",
       "Name: AMT_INCOME_TOTAL, dtype: float64"
      ]
     },
     "execution_count": 3,
     "metadata": {},
     "output_type": "execute_result"
    }
   ],
   "source": [
    "df.AMT_INCOME_TOTAL.describe()"
   ]
  },
  {
   "cell_type": "code",
   "execution_count": 4,
   "id": "9f5f2fa9",
   "metadata": {},
   "outputs": [
    {
     "name": "stdout",
     "output_type": "stream",
     "text": [
      "Variance of AMT_INCOME_TOTAL = 12119115218.02249\n",
      "Mean of AMT_INCOME_TOTAL = 187524.28600950394\n"
     ]
    }
   ],
   "source": [
    "# Calculating Mean and Variance details of AMT_INCOME_TOTAL column\n",
    "df_var = df.AMT_INCOME_TOTAL.var()\n",
    "df_mean = df.AMT_INCOME_TOTAL.mean()\n",
    "\n",
    "print('Variance of AMT_INCOME_TOTAL = {}' .format(df_var))\n",
    "print('Mean of AMT_INCOME_TOTAL = {}' .format(df_mean))"
   ]
  },
  {
   "cell_type": "markdown",
   "id": "93ba07cb",
   "metadata": {},
   "source": [
    "Assuming AMT_INCOME_TOTAL column has normal distribution then, probability density is referred as below:\n",
    "\n",
    "X ~ N(mean,variance**2)\n",
    "\n",
    "X = Random Number\n",
    "\n",
    "N = Normal Distribution\n",
    "\n",
    "mean = mean of column \"AMT_INCOME_TOTAL\"\n",
    "\n",
    "variance = variance of column \"AMT_INCOME_TOTAL\"\n",
    "\n",
    "N(187524.28600950394,12119115218.02249)\n",
    "\n"
   ]
  }
 ],
 "metadata": {
  "kernelspec": {
   "display_name": "Python 3 (ipykernel)",
   "language": "python",
   "name": "python3"
  },
  "language_info": {
   "codemirror_mode": {
    "name": "ipython",
    "version": 3
   },
   "file_extension": ".py",
   "mimetype": "text/x-python",
   "name": "python",
   "nbconvert_exporter": "python",
   "pygments_lexer": "ipython3",
   "version": "3.9.7"
  }
 },
 "nbformat": 4,
 "nbformat_minor": 5
}
