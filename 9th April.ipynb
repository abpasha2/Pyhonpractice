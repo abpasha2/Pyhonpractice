{
 "cells": [
  {
   "cell_type": "markdown",
   "id": "60056fcf",
   "metadata": {},
   "source": [
    "## Object Oriented Programming (OOPS)"
   ]
  },
  {
   "cell_type": "markdown",
   "id": "16add70f",
   "metadata": {},
   "source": [
    "# Objects\n"
   ]
  },
  {
   "cell_type": "code",
   "execution_count": 1,
   "id": "d478c353",
   "metadata": {},
   "outputs": [],
   "source": [
    "list1 = list()"
   ]
  },
  {
   "cell_type": "code",
   "execution_count": 3,
   "id": "74ad04a8",
   "metadata": {},
   "outputs": [
    {
     "data": {
      "text/plain": [
       "list"
      ]
     },
     "execution_count": 3,
     "metadata": {},
     "output_type": "execute_result"
    }
   ],
   "source": [
    "# built in datatypes\n",
    "\n",
    "# int\n",
    "# float\n",
    "# list\n",
    "# set\n",
    "# tuple\n",
    "# dict\n",
    "# bool\n",
    "# string"
   ]
  },
  {
   "cell_type": "code",
   "execution_count": 7,
   "id": "5b7697f0",
   "metadata": {},
   "outputs": [],
   "source": [
    "a = (2,3)\n",
    "b = (4,5)"
   ]
  },
  {
   "cell_type": "code",
   "execution_count": 9,
   "id": "57527faa",
   "metadata": {},
   "outputs": [],
   "source": [
    "import pandas as pd"
   ]
  },
  {
   "cell_type": "code",
   "execution_count": null,
   "id": "df17e8c1",
   "metadata": {},
   "outputs": [],
   "source": [
    "# --> Package\n",
    "#   --> Module1\n",
    "#     --> Classes/Methods\n",
    "#   --> Module2\n",
    "#     --> Classes/Methods\n",
    "#   --> Subpackage\n",
    "#     --> SubModule1\n",
    "#         --> Classes/Methods"
   ]
  },
  {
   "cell_type": "code",
   "execution_count": 10,
   "id": "2f59015a",
   "metadata": {},
   "outputs": [],
   "source": [
    "d = pd.DataFrame()"
   ]
  },
  {
   "cell_type": "code",
   "execution_count": 13,
   "id": "1aaad6e5",
   "metadata": {},
   "outputs": [
    {
     "data": {
      "text/plain": [
       "pandas.core.frame.DataFrame"
      ]
     },
     "execution_count": 13,
     "metadata": {},
     "output_type": "execute_result"
    }
   ],
   "source": [
    "type(d)"
   ]
  },
  {
   "cell_type": "markdown",
   "id": "eb0a55a0",
   "metadata": {},
   "source": [
    "* Using the *class* keyword"
   ]
  },
  {
   "cell_type": "code",
   "execution_count": 14,
   "id": "3e80ac46",
   "metadata": {},
   "outputs": [],
   "source": [
    "list1 = list()"
   ]
  },
  {
   "cell_type": "code",
   "execution_count": 37,
   "id": "7eb6f225",
   "metadata": {},
   "outputs": [],
   "source": [
    "list1 = list()"
   ]
  },
  {
   "cell_type": "code",
   "execution_count": 38,
   "id": "a2a2fb67",
   "metadata": {},
   "outputs": [
    {
     "data": {
      "text/plain": [
       "[]"
      ]
     },
     "execution_count": 38,
     "metadata": {},
     "output_type": "execute_result"
    }
   ],
   "source": [
    "list1"
   ]
  },
  {
   "cell_type": "code",
   "execution_count": null,
   "id": "c121226a",
   "metadata": {},
   "outputs": [],
   "source": [
    "## Pseudo code \n",
    "\n",
    "# address = Allocate memory to a new complex number\n",
    "\n",
    "#__init__(address, real, img)\n",
    "\n",
    "#return address"
   ]
  },
  {
   "cell_type": "markdown",
   "id": "54a4482f",
   "metadata": {},
   "source": [
    "\n",
    "* Creating class attributes"
   ]
  },
  {
   "cell_type": "code",
   "execution_count": 69,
   "id": "7ad34767",
   "metadata": {},
   "outputs": [],
   "source": [
    "class ComplexNumber:\n",
    "    \n",
    "    def __init__(self, real, img):\n",
    "        self.real = real\n",
    "        self.img = img\n",
    "    "
   ]
  },
  {
   "cell_type": "code",
   "execution_count": 70,
   "id": "efb65ae9",
   "metadata": {},
   "outputs": [
    {
     "ename": "TypeError",
     "evalue": "__init__() takes 3 positional arguments but 4 were given",
     "output_type": "error",
     "traceback": [
      "\u001b[1;31m---------------------------------------------------------------------------\u001b[0m",
      "\u001b[1;31mTypeError\u001b[0m                                 Traceback (most recent call last)",
      "\u001b[1;32m<ipython-input-70-bb4add1b74ce>\u001b[0m in \u001b[0;36m<module>\u001b[1;34m\u001b[0m\n\u001b[1;32m----> 1\u001b[1;33m \u001b[0mc\u001b[0m \u001b[1;33m=\u001b[0m \u001b[0mComplexNumber\u001b[0m\u001b[1;33m(\u001b[0m\u001b[1;36m10\u001b[0m\u001b[1;33m,\u001b[0m\u001b[1;36m12\u001b[0m\u001b[1;33m,\u001b[0m\u001b[1;36m13\u001b[0m\u001b[1;33m)\u001b[0m\u001b[1;33m\u001b[0m\u001b[1;33m\u001b[0m\u001b[0m\n\u001b[0m",
      "\u001b[1;31mTypeError\u001b[0m: __init__() takes 3 positional arguments but 4 were given"
     ]
    }
   ],
   "source": [
    "c = ComplexNumber(10,12,13)"
   ]
  },
  {
   "cell_type": "code",
   "execution_count": 55,
   "id": "fa29b1f7",
   "metadata": {},
   "outputs": [
    {
     "data": {
      "text/plain": [
       "10"
      ]
     },
     "execution_count": 55,
     "metadata": {},
     "output_type": "execute_result"
    }
   ],
   "source": [
    "c.real"
   ]
  },
  {
   "cell_type": "code",
   "execution_count": 56,
   "id": "8562f42b",
   "metadata": {},
   "outputs": [
    {
     "ename": "AttributeError",
     "evalue": "'ComplexNumber' object has no attribute 'img'",
     "output_type": "error",
     "traceback": [
      "\u001b[1;31m---------------------------------------------------------------------------\u001b[0m",
      "\u001b[1;31mAttributeError\u001b[0m                            Traceback (most recent call last)",
      "\u001b[1;32m<ipython-input-56-2f4df47a72a9>\u001b[0m in \u001b[0;36m<module>\u001b[1;34m\u001b[0m\n\u001b[1;32m----> 1\u001b[1;33m \u001b[0mc\u001b[0m\u001b[1;33m.\u001b[0m\u001b[0mimg\u001b[0m\u001b[1;33m\u001b[0m\u001b[1;33m\u001b[0m\u001b[0m\n\u001b[0m",
      "\u001b[1;31mAttributeError\u001b[0m: 'ComplexNumber' object has no attribute 'img'"
     ]
    }
   ],
   "source": [
    "c.img"
   ]
  },
  {
   "cell_type": "code",
   "execution_count": 46,
   "id": "1e03cbd2",
   "metadata": {},
   "outputs": [
    {
     "data": {
      "text/plain": [
       "<__main__.ComplexNumber at 0x204109af248>"
      ]
     },
     "execution_count": 46,
     "metadata": {},
     "output_type": "execute_result"
    }
   ],
   "source": [
    "c"
   ]
  },
  {
   "cell_type": "code",
   "execution_count": 50,
   "id": "063c22c1",
   "metadata": {},
   "outputs": [
    {
     "data": {
      "text/plain": [
       "<__main__.ComplexNumber at 0x20410922508>"
      ]
     },
     "execution_count": 50,
     "metadata": {},
     "output_type": "execute_result"
    }
   ],
   "source": [
    "c1 = ComplexNumber(10,12)\n",
    "c1"
   ]
  },
  {
   "cell_type": "code",
   "execution_count": 51,
   "id": "61a28388",
   "metadata": {},
   "outputs": [
    {
     "data": {
      "text/plain": [
       "10"
      ]
     },
     "execution_count": 51,
     "metadata": {},
     "output_type": "execute_result"
    }
   ],
   "source": [
    "c1.real"
   ]
  },
  {
   "cell_type": "code",
   "execution_count": 52,
   "id": "fe5b6442",
   "metadata": {},
   "outputs": [
    {
     "data": {
      "text/plain": [
       "12"
      ]
     },
     "execution_count": 52,
     "metadata": {},
     "output_type": "execute_result"
    }
   ],
   "source": [
    "c1.img"
   ]
  },
  {
   "cell_type": "code",
   "execution_count": 49,
   "id": "f737faaa",
   "metadata": {},
   "outputs": [],
   "source": [
    "a = 10\n",
    "b = 10"
   ]
  },
  {
   "cell_type": "code",
   "execution_count": 65,
   "id": "94904f06",
   "metadata": {},
   "outputs": [],
   "source": [
    "c2 = ComplexNumber(10)"
   ]
  },
  {
   "cell_type": "code",
   "execution_count": 66,
   "id": "e5bda061",
   "metadata": {},
   "outputs": [
    {
     "data": {
      "text/plain": [
       "10"
      ]
     },
     "execution_count": 66,
     "metadata": {},
     "output_type": "execute_result"
    }
   ],
   "source": [
    "c2.real"
   ]
  },
  {
   "cell_type": "code",
   "execution_count": 67,
   "id": "85f51edc",
   "metadata": {},
   "outputs": [
    {
     "data": {
      "text/plain": [
       "0"
      ]
     },
     "execution_count": 67,
     "metadata": {},
     "output_type": "execute_result"
    }
   ],
   "source": [
    "c2.img"
   ]
  },
  {
   "cell_type": "code",
   "execution_count": 68,
   "id": "e97429c7",
   "metadata": {},
   "outputs": [
    {
     "ename": "TypeError",
     "evalue": "__init__() missing 1 required positional argument: 'real'",
     "output_type": "error",
     "traceback": [
      "\u001b[1;31m---------------------------------------------------------------------------\u001b[0m",
      "\u001b[1;31mTypeError\u001b[0m                                 Traceback (most recent call last)",
      "\u001b[1;32m<ipython-input-68-cd68b3a9f77d>\u001b[0m in \u001b[0;36m<module>\u001b[1;34m\u001b[0m\n\u001b[1;32m----> 1\u001b[1;33m \u001b[0mc3\u001b[0m \u001b[1;33m=\u001b[0m \u001b[0mComplexNumber\u001b[0m\u001b[1;33m(\u001b[0m\u001b[1;33m)\u001b[0m\u001b[1;33m\u001b[0m\u001b[1;33m\u001b[0m\u001b[0m\n\u001b[0m",
      "\u001b[1;31mTypeError\u001b[0m: __init__() missing 1 required positional argument: 'real'"
     ]
    }
   ],
   "source": [
    "c3 = ComplexNumber()"
   ]
  },
  {
   "cell_type": "markdown",
   "id": "9efd532e",
   "metadata": {},
   "source": [
    "* Creating methods in a class"
   ]
  },
  {
   "cell_type": "code",
   "execution_count": 74,
   "id": "fec0b7bb",
   "metadata": {},
   "outputs": [],
   "source": [
    "list1 = list()"
   ]
  },
  {
   "cell_type": "code",
   "execution_count": 75,
   "id": "ccd834ef",
   "metadata": {},
   "outputs": [
    {
     "data": {
      "text/plain": [
       "[]"
      ]
     },
     "execution_count": 75,
     "metadata": {},
     "output_type": "execute_result"
    }
   ],
   "source": [
    "list1"
   ]
  },
  {
   "cell_type": "code",
   "execution_count": 76,
   "id": "3f93d3a1",
   "metadata": {},
   "outputs": [],
   "source": [
    "list1.append(1)"
   ]
  },
  {
   "cell_type": "code",
   "execution_count": 77,
   "id": "a3cc0f97",
   "metadata": {},
   "outputs": [
    {
     "data": {
      "text/plain": [
       "[1]"
      ]
     },
     "execution_count": 77,
     "metadata": {},
     "output_type": "execute_result"
    }
   ],
   "source": [
    "list1"
   ]
  },
  {
   "cell_type": "code",
   "execution_count": 78,
   "id": "54ce782c",
   "metadata": {},
   "outputs": [],
   "source": [
    "list1.append(2)"
   ]
  },
  {
   "cell_type": "code",
   "execution_count": 79,
   "id": "24a81c31",
   "metadata": {},
   "outputs": [
    {
     "data": {
      "text/plain": [
       "[1, 2]"
      ]
     },
     "execution_count": 79,
     "metadata": {},
     "output_type": "execute_result"
    }
   ],
   "source": [
    "list1"
   ]
  },
  {
   "cell_type": "code",
   "execution_count": null,
   "id": "88cdba8f",
   "metadata": {},
   "outputs": [],
   "source": [
    "list1."
   ]
  },
  {
   "cell_type": "code",
   "execution_count": 133,
   "id": "1fec5d9d",
   "metadata": {},
   "outputs": [],
   "source": [
    "class ComplexNumber:\n",
    "    \n",
    "    pi = 3.14\n",
    "    \n",
    "    def __init__(self, real, img):\n",
    "        self.real = real\n",
    "        self.img = img\n",
    "        \n",
    "    def print_complex(self):\n",
    "        print(\"{} + {}i\".format(self.real, self.img))\n",
    "        \n",
    "    def addtoreal(self):\n",
    "        self.real = self.real + pi"
   ]
  },
  {
   "cell_type": "code",
   "execution_count": 120,
   "id": "51f99cc5",
   "metadata": {},
   "outputs": [
    {
     "data": {
      "text/plain": [
       "3.14"
      ]
     },
     "execution_count": 120,
     "metadata": {},
     "output_type": "execute_result"
    }
   ],
   "source": [
    "ComplexNumber.pi"
   ]
  },
  {
   "cell_type": "code",
   "execution_count": 127,
   "id": "c07c53fa",
   "metadata": {},
   "outputs": [],
   "source": [
    "c = ComplexNumber(,12)"
   ]
  },
  {
   "cell_type": "code",
   "execution_count": 124,
   "id": "2a5c79d6",
   "metadata": {},
   "outputs": [],
   "source": [
    "c1 = ComplexNumber(1,12)"
   ]
  },
  {
   "cell_type": "code",
   "execution_count": null,
   "id": "e6f3761d",
   "metadata": {},
   "outputs": [],
   "source": []
  },
  {
   "cell_type": "code",
   "execution_count": 113,
   "id": "cd301c16",
   "metadata": {},
   "outputs": [
    {
     "data": {
      "text/plain": [
       "12"
      ]
     },
     "execution_count": 113,
     "metadata": {},
     "output_type": "execute_result"
    }
   ],
   "source": [
    "c.img"
   ]
  },
  {
   "cell_type": "code",
   "execution_count": 114,
   "id": "43757c6a",
   "metadata": {},
   "outputs": [
    {
     "data": {
      "text/plain": [
       "10"
      ]
     },
     "execution_count": 114,
     "metadata": {},
     "output_type": "execute_result"
    }
   ],
   "source": [
    "c.real"
   ]
  },
  {
   "cell_type": "code",
   "execution_count": 115,
   "id": "12e12136",
   "metadata": {},
   "outputs": [
    {
     "name": "stdout",
     "output_type": "stream",
     "text": [
      "10 + 12i\n"
     ]
    }
   ],
   "source": [
    "c.print_complex()"
   ]
  },
  {
   "cell_type": "code",
   "execution_count": 116,
   "id": "be744721",
   "metadata": {},
   "outputs": [
    {
     "data": {
      "text/plain": [
       "100"
      ]
     },
     "execution_count": 116,
     "metadata": {},
     "output_type": "execute_result"
    }
   ],
   "source": [
    "c.addtoreal(90, 10)"
   ]
  },
  {
   "cell_type": "code",
   "execution_count": 117,
   "id": "c3725698",
   "metadata": {},
   "outputs": [
    {
     "name": "stdout",
     "output_type": "stream",
     "text": [
      "10 + 12i\n"
     ]
    }
   ],
   "source": [
    "c.print_complex()"
   ]
  },
  {
   "cell_type": "code",
   "execution_count": 129,
   "id": "1b8d0e9d",
   "metadata": {},
   "outputs": [],
   "source": [
    "list1 = list()"
   ]
  },
  {
   "cell_type": "code",
   "execution_count": null,
   "id": "11707e1c",
   "metadata": {},
   "outputs": [],
   "source": [
    "list1."
   ]
  },
  {
   "cell_type": "code",
   "execution_count": null,
   "id": "b509b4c6",
   "metadata": {},
   "outputs": [],
   "source": [
    "switch (op):\n",
    "    \n",
    "    case \"+\":\n",
    "        __add__\n",
    "        \n",
    "    case \"-\":\n",
    "        __sub__"
   ]
  },
  {
   "cell_type": "code",
   "execution_count": 230,
   "id": "4ae0662e",
   "metadata": {},
   "outputs": [],
   "source": [
    "class ComplexNumberAttrHid:\n",
    "    \n",
    "    __pi = 3.14\n",
    "    \n",
    "    def __init__(self, real = 0, img = 0):\n",
    "        self.__real = real\n",
    "        self.__img = img\n",
    "    \n",
    "    def set_number(self, real, img):\n",
    "        self.__real = real\n",
    "        self.__img = img\n",
    "        \n",
    "    def get_number(self):\n",
    "        return (self.__real, self.__img)\n",
    "    \n",
    "    def conjugate(self):\n",
    "        return ComplexNumberAttrHid(real = self.__real, img = self.__img * -1)\n",
    "    \n",
    "    def __add__(self, other):\n",
    "        real, img = other.get_number()\n",
    "        real_new = self.__real + real\n",
    "        img_new = self.__img + img\n",
    "        return ComplexNumberAttrHid(real = real_new, img = img_new)\n",
    "    \n",
    "    def __sub__(self, other):\n",
    "        real, img = other.get_number()\n",
    "        real_new = self.__real - real\n",
    "        img_new = self.__img - img\n",
    "        return ComplexNumberAttrHid(real = real_new, img = img_new)\n",
    "    \n",
    "    def __str__(self):\n",
    "        return \"{} + {}i\".format(self.__real, self.__img)"
   ]
  },
  {
   "cell_type": "code",
   "execution_count": 227,
   "id": "b4623c25",
   "metadata": {},
   "outputs": [],
   "source": [
    "c = ComplexNumberAttrHid(real = 10, img = 12)"
   ]
  },
  {
   "cell_type": "code",
   "execution_count": 228,
   "id": "ce905bd2",
   "metadata": {},
   "outputs": [],
   "source": [
    "c1 = ComplexNumberAttrHid(real = 12, img = 14)"
   ]
  },
  {
   "cell_type": "code",
   "execution_count": 221,
   "id": "4c42e6b1",
   "metadata": {},
   "outputs": [],
   "source": [
    "c2 = c - c1"
   ]
  },
  {
   "cell_type": "code",
   "execution_count": 222,
   "id": "ec0db45e",
   "metadata": {},
   "outputs": [
    {
     "name": "stdout",
     "output_type": "stream",
     "text": [
      "-2 + -2i\n"
     ]
    }
   ],
   "source": [
    "c2.print_complex()"
   ]
  },
  {
   "cell_type": "code",
   "execution_count": 202,
   "id": "1559bdf3",
   "metadata": {},
   "outputs": [
    {
     "name": "stdout",
     "output_type": "stream",
     "text": [
      "10 + 12i\n"
     ]
    }
   ],
   "source": [
    "c.print_complex()"
   ]
  },
  {
   "cell_type": "code",
   "execution_count": 183,
   "id": "a5201f61",
   "metadata": {},
   "outputs": [
    {
     "data": {
      "text/plain": [
       "<__main__.ComplexNumberAttrHid at 0x204109e5cc8>"
      ]
     },
     "execution_count": 183,
     "metadata": {},
     "output_type": "execute_result"
    }
   ],
   "source": [
    "c"
   ]
  },
  {
   "cell_type": "code",
   "execution_count": 184,
   "id": "e9844544",
   "metadata": {},
   "outputs": [],
   "source": [
    "c1 = c.conjugate()"
   ]
  },
  {
   "cell_type": "code",
   "execution_count": 186,
   "id": "24466701",
   "metadata": {},
   "outputs": [
    {
     "name": "stdout",
     "output_type": "stream",
     "text": [
      "10 + -12i\n"
     ]
    }
   ],
   "source": [
    "c1.print_complex()"
   ]
  },
  {
   "cell_type": "code",
   "execution_count": 188,
   "id": "fb627642",
   "metadata": {
    "scrolled": true
   },
   "outputs": [],
   "source": [
    "c2 = c1.conjugate()"
   ]
  },
  {
   "cell_type": "code",
   "execution_count": 189,
   "id": "6d619791",
   "metadata": {},
   "outputs": [
    {
     "name": "stdout",
     "output_type": "stream",
     "text": [
      "10 + 12i\n"
     ]
    }
   ],
   "source": [
    "c2.print_complex()"
   ]
  },
  {
   "cell_type": "code",
   "execution_count": 190,
   "id": "df265a40",
   "metadata": {},
   "outputs": [
    {
     "data": {
      "text/plain": [
       "[1, 2, 3, 2, 3, 4]"
      ]
     },
     "execution_count": 190,
     "metadata": {},
     "output_type": "execute_result"
    }
   ],
   "source": [
    "list1 = list([1,2,3])\n",
    "list2 = list([2,3,4])\n",
    "\n",
    "list1 + list2"
   ]
  },
  {
   "cell_type": "code",
   "execution_count": 223,
   "id": "83049969",
   "metadata": {},
   "outputs": [
    {
     "name": "stdout",
     "output_type": "stream",
     "text": [
      "[12, 2, 3, 4, 5]\n"
     ]
    }
   ],
   "source": [
    "list1 = list([12,2,3,4,5])\n",
    "print(list1)"
   ]
  },
  {
   "cell_type": "code",
   "execution_count": 229,
   "id": "a5da851d",
   "metadata": {},
   "outputs": [
    {
     "name": "stdout",
     "output_type": "stream",
     "text": [
      "10 + 12i\n"
     ]
    }
   ],
   "source": [
    "c = ComplexNumberAttrHid(10,12)\n",
    "print(c)"
   ]
  },
  {
   "cell_type": "markdown",
   "id": "6fa969d4",
   "metadata": {},
   "source": [
    "\n",
    "\n",
    "* Learning about Inheritance\n",
    "* Learning about Polymorphism\n",
    "* Learning about Special Methods for classes"
   ]
  },
  {
   "cell_type": "code",
   "execution_count": 235,
   "id": "5871c813",
   "metadata": {},
   "outputs": [],
   "source": [
    "c = ComplexNumber(10,12)"
   ]
  },
  {
   "cell_type": "code",
   "execution_count": 236,
   "id": "2e0f58ba",
   "metadata": {},
   "outputs": [
    {
     "data": {
      "text/plain": [
       "<__main__.ComplexNumber at 0x20410a5d308>"
      ]
     },
     "execution_count": 236,
     "metadata": {},
     "output_type": "execute_result"
    }
   ],
   "source": [
    "c"
   ]
  },
  {
   "cell_type": "code",
   "execution_count": null,
   "id": "7899a667",
   "metadata": {},
   "outputs": [],
   "source": [
    "class object:\n",
    "    \n",
    "    def __str__(self):\n",
    "        return \"<__main__.<name of class> at <address of the obj>\""
   ]
  },
  {
   "cell_type": "code",
   "execution_count": null,
   "id": "430853fe",
   "metadata": {},
   "outputs": [],
   "source": [
    "class ComplexNumberAttrHid(object):\n",
    "    \n",
    "    __pi = 3.14\n",
    "    \n",
    "    def __init__(self, real = 0, img = 0):\n",
    "        self.__real = real\n",
    "        self.__img = img\n",
    "    \n",
    "    def set_number(self, real, img):\n",
    "        self.__real = real\n",
    "        self.__img = img\n",
    "        \n",
    "    def get_number(self):\n",
    "        return (self.__real, self.__img)\n",
    "    \n",
    "    def conjugate(self):\n",
    "        return ComplexNumberAttrHid(real = self.__real, img = self.__img * -1)\n",
    "    \n",
    "    def __add__(self, other):\n",
    "        real, img = other.get_number()\n",
    "        real_new = self.__real + real\n",
    "        img_new = self.__img + img\n",
    "        return ComplexNumberAttrHid(real = real_new, img = img_new)\n",
    "    \n",
    "    def __sub__(self, other):\n",
    "        real, img = other.get_number()\n",
    "        real_new = self.__real - real\n",
    "        img_new = self.__img - img\n",
    "        return ComplexNumberAttrHid(real = real_new, img = img_new)\n",
    "    \n",
    "    def __str__(self):\n",
    "        return \"{} + {}i\".format(self.__real, self.__img)"
   ]
  },
  {
   "cell_type": "code",
   "execution_count": 233,
   "id": "cf779c64",
   "metadata": {},
   "outputs": [],
   "source": [
    "list1 = list()\n",
    "list1.append(1)"
   ]
  },
  {
   "cell_type": "code",
   "execution_count": 257,
   "id": "69b93c92",
   "metadata": {},
   "outputs": [],
   "source": [
    "class Room:\n",
    "    \n",
    "    def __init__(self, dimension = (10,12)):\n",
    "        print(\"In base class constructor\")\n",
    "        self.dimension = dimension \n",
    "        self.islighton = False\n",
    "        self.isdooropen = False\n",
    "        self.iswindowpresent = False\n",
    "    \n",
    "    def turnonlight(self):\n",
    "        self.islighton = True\n",
    "    \n",
    "class LivingRoom(Room):\n",
    "    \n",
    "    def __init__(self, dimension = (20,30)):\n",
    "        print(\"In child class constructor\")\n",
    "        \n",
    "        Room.__init__(self, dimension)\n",
    "        \n",
    "        self.issofapresent = False\n",
    "        \n",
    "class Kitchen(Room):\n",
    "    \n",
    "    def __init__(self, dimension = (14,14)):\n",
    "        Room.__init__(self, dimension)\n",
    "        self.chimneypresent = False\n",
    "        \n",
    "    def installchimney(self):\n",
    "        self.chimneypresent = True"
   ]
  },
  {
   "cell_type": "code",
   "execution_count": 258,
   "id": "c202ef9f",
   "metadata": {},
   "outputs": [
    {
     "name": "stdout",
     "output_type": "stream",
     "text": [
      "In base class constructor\n"
     ]
    }
   ],
   "source": [
    "k = Kitchen()"
   ]
  },
  {
   "cell_type": "code",
   "execution_count": 260,
   "id": "cac238e9",
   "metadata": {},
   "outputs": [
    {
     "data": {
      "text/plain": [
       "False"
      ]
     },
     "execution_count": 260,
     "metadata": {},
     "output_type": "execute_result"
    }
   ],
   "source": [
    "k.chimneypresent"
   ]
  },
  {
   "cell_type": "code",
   "execution_count": 261,
   "id": "d40a9135",
   "metadata": {},
   "outputs": [],
   "source": [
    "k.installchimney()"
   ]
  },
  {
   "cell_type": "code",
   "execution_count": 262,
   "id": "2625ac2d",
   "metadata": {},
   "outputs": [
    {
     "data": {
      "text/plain": [
       "True"
      ]
     },
     "execution_count": 262,
     "metadata": {},
     "output_type": "execute_result"
    }
   ],
   "source": [
    "k.chimneypresent"
   ]
  },
  {
   "cell_type": "code",
   "execution_count": 249,
   "id": "8f3d1544",
   "metadata": {},
   "outputs": [
    {
     "name": "stdout",
     "output_type": "stream",
     "text": [
      "In child class constructor\n",
      "In base class constructor\n"
     ]
    }
   ],
   "source": [
    "lr = LivingRoom()"
   ]
  },
  {
   "cell_type": "code",
   "execution_count": 263,
   "id": "9a39cde5",
   "metadata": {},
   "outputs": [],
   "source": [
    "class Room:\n",
    "    \n",
    "    def __init__(self, dimension = (10,12)):\n",
    "        self.__dimension = dimension \n",
    "        self.__islighton = False\n",
    "        self.__isdooropen = False\n",
    "        \n",
    "    def turnonlight(self):\n",
    "        self.__islighton = True\n",
    "        \n",
    "    def turnofflight(self):\n",
    "        self.__islighton = False\n",
    "        \n",
    "    def getlightstatus(self):\n",
    "        return self.__islighton\n",
    "    \n",
    "    \n",
    "class LivingRoom(Room):\n",
    "    \n",
    "    def __init__(self, dimension = (10,12), tvpresent = False):\n",
    "        Room.__init__(self, dimension)\n",
    "        self.hastv = tvpresent\n",
    "        \n",
    "    \n",
    "class BedRoom(Room):\n",
    "     def __init__(self, dimension, bedpresent = False, kindofbed = \"Queen\"):\n",
    "        self.dimension = dimension\n",
    "        self.hasbed = bedpresent\n",
    "        self.kindofbed = kindofbed\n",
    "    \n",
    "\n",
    "class Wardrobe:\n",
    "    def __init__(self, numberofshelves = 4):\n",
    "        self.numberofshelves = numberofshelves\n",
    "    \n",
    "class storeRoom(Room):\n",
    "    def __init__(self, dimension, wardrobepresent = False, numberofShelves = 4):\n",
    "        self.dimension = dimension\n",
    "        self.haswardrobe = wardrobepresent\n",
    "        self.wardrobe = Wardrobe(numberofShelves)\n",
    "\n",
    "class Chimney:\n",
    "    \n",
    "    def __init__(self, brand):\n",
    "        self.brand = brand\n",
    "        \n",
    "class Kitchen:\n",
    "    def __init__(self, dimension):\n",
    "        self.dimension = dimension\n",
    "        self.chimney = Chimney(brand = \"Netgear\")"
   ]
  },
  {
   "cell_type": "markdown",
   "id": "beb4c28a",
   "metadata": {},
   "source": [
    "## Polymorphism"
   ]
  },
  {
   "cell_type": "code",
   "execution_count": 264,
   "id": "5e836a42",
   "metadata": {},
   "outputs": [
    {
     "data": {
      "text/plain": [
       "3"
      ]
     },
     "execution_count": 264,
     "metadata": {},
     "output_type": "execute_result"
    }
   ],
   "source": [
    "1 + 2"
   ]
  },
  {
   "cell_type": "code",
   "execution_count": 265,
   "id": "a677eb74",
   "metadata": {},
   "outputs": [
    {
     "data": {
      "text/plain": [
       "3.0"
      ]
     },
     "execution_count": 265,
     "metadata": {},
     "output_type": "execute_result"
    }
   ],
   "source": [
    "1.0 + 2.0"
   ]
  },
  {
   "cell_type": "code",
   "execution_count": 266,
   "id": "6c10c194",
   "metadata": {},
   "outputs": [
    {
     "data": {
      "text/plain": [
       "'hihello'"
      ]
     },
     "execution_count": 266,
     "metadata": {},
     "output_type": "execute_result"
    }
   ],
   "source": [
    "\"hi\" + \"hello\""
   ]
  },
  {
   "cell_type": "code",
   "execution_count": 267,
   "id": "c5516352",
   "metadata": {},
   "outputs": [
    {
     "data": {
      "text/plain": [
       "[1, 2, 3, 4, 2, 3, 4, 5]"
      ]
     },
     "execution_count": 267,
     "metadata": {},
     "output_type": "execute_result"
    }
   ],
   "source": [
    "[1,2,3,4] + [2,3,4,5]"
   ]
  },
  {
   "cell_type": "code",
   "execution_count": 269,
   "id": "b089f1d5",
   "metadata": {},
   "outputs": [],
   "source": [
    "import numpy as np"
   ]
  },
  {
   "cell_type": "code",
   "execution_count": 270,
   "id": "7fa27f21",
   "metadata": {},
   "outputs": [
    {
     "data": {
      "text/plain": [
       "array([3, 5, 7, 9])"
      ]
     },
     "execution_count": 270,
     "metadata": {},
     "output_type": "execute_result"
    }
   ],
   "source": [
    "np.array([1,2,3,4]) + np.array([2,3,4,5])"
   ]
  },
  {
   "cell_type": "code",
   "execution_count": 271,
   "id": "15792548",
   "metadata": {},
   "outputs": [
    {
     "name": "stdout",
     "output_type": "stream",
     "text": [
      "Niko says Woof!\n",
      "Felix says Meow!\n"
     ]
    }
   ],
   "source": [
    "class Dog:\n",
    "    def __init__(self, name):\n",
    "        self.name = name\n",
    "\n",
    "    def speak(self):\n",
    "        return self.name+' says Woof!'\n",
    "    \n",
    "class Cat:\n",
    "    def __init__(self, name):\n",
    "        self.name = name\n",
    "\n",
    "    def speak(self):\n",
    "        return self.name+' says Meow!' \n",
    "    \n",
    "niko = Dog('Niko')\n",
    "felix = Cat('Felix')\n",
    "\n",
    "print(niko.speak())\n",
    "print(felix.speak())"
   ]
  },
  {
   "cell_type": "code",
   "execution_count": 277,
   "id": "89dc7109",
   "metadata": {},
   "outputs": [
    {
     "name": "stdout",
     "output_type": "stream",
     "text": [
      "Fido says Woof!\n",
      "Isis says Meow!\n"
     ]
    }
   ],
   "source": [
    "class Animal:\n",
    "    def __init__(self, name):    # Constructor of the class\n",
    "        self.name = name\n",
    "\n",
    "    def speak(self):              # Abstract method, defined by convention only\n",
    "        #print(\"This function is not implemented\")\n",
    "        raise NotImplementedError(\"Subclass must implement abstract method\")\n",
    "\n",
    "class Bear(Animal):\n",
    "    \n",
    "    def speak(self):\n",
    "        return self.name + \" says roar!\"\n",
    "        \n",
    "class Dog(Animal):\n",
    "    \n",
    "    def speak(self):\n",
    "        return self.name+' says Woof!'\n",
    "    \n",
    "class Cat(Animal):\n",
    "\n",
    "    def speak(self):\n",
    "        return self.name+' says Meow!'\n",
    "    \n",
    "fido = Dog('Fido')\n",
    "\n",
    "isis = Cat('Isis')\n",
    "\n",
    "print(fido.speak())\n",
    "print(isis.speak())"
   ]
  },
  {
   "cell_type": "code",
   "execution_count": 278,
   "id": "14a8b4a4",
   "metadata": {},
   "outputs": [
    {
     "data": {
      "text/plain": [
       "'Baloo says roar!'"
      ]
     },
     "execution_count": 278,
     "metadata": {},
     "output_type": "execute_result"
    }
   ],
   "source": [
    "bear = Bear(\"Baloo\")\n",
    "\n",
    "bear.speak()"
   ]
  },
  {
   "cell_type": "code",
   "execution_count": null,
   "id": "0269ba7b",
   "metadata": {},
   "outputs": [],
   "source": []
  }
 ],
 "metadata": {
  "kernelspec": {
   "display_name": "Python 3",
   "language": "python",
   "name": "python3"
  },
  "language_info": {
   "codemirror_mode": {
    "name": "ipython",
    "version": 3
   },
   "file_extension": ".py",
   "mimetype": "text/x-python",
   "name": "python",
   "nbconvert_exporter": "python",
   "pygments_lexer": "ipython3",
   "version": "3.7.9"
  }
 },
 "nbformat": 4,
 "nbformat_minor": 5
}
