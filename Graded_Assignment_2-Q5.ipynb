{
 "cells": [
  {
   "cell_type": "markdown",
   "id": "66dcd508",
   "metadata": {},
   "source": [
    "## Graded Assignment - 2"
   ]
  },
  {
   "cell_type": "markdown",
   "id": "bc0eb79e",
   "metadata": {},
   "source": [
    "####  Q5. Explore column and Code_Gender and Flag_own_car column. Is there a relationship between them.(5 mark)"
   ]
  },
  {
   "cell_type": "code",
   "execution_count": 1,
   "id": "b1736d37",
   "metadata": {},
   "outputs": [],
   "source": [
    "# Importing required supporting libraries\n",
    "import numpy as np\n",
    "import pandas as pd\n",
    "import matplotlib.pyplot as plt\n",
    "import seaborn as sns\n",
    "%matplotlib inline"
   ]
  },
  {
   "cell_type": "code",
   "execution_count": 2,
   "id": "5f665585",
   "metadata": {},
   "outputs": [],
   "source": [
    "# Creating DF object fromn the Application records\n",
    "\n",
    "df = pd.read_csv('C:\\AI-ML\\SampleData\\Application_record.csv')\n"
   ]
  },
  {
   "cell_type": "code",
   "execution_count": 41,
   "id": "0420aa16",
   "metadata": {},
   "outputs": [
    {
     "data": {
      "text/plain": [
       "<AxesSubplot:xlabel='CODE_GENDER', ylabel='count'>"
      ]
     },
     "execution_count": 41,
     "metadata": {},
     "output_type": "execute_result"
    },
    {
     "data": {
      "image/png": "[encoded data removed]",
      "text/plain": [
       "<Figure size 432x288 with 1 Axes>"
      ]
     },
     "metadata": {
      "needs_background": "light"
     },
     "output_type": "display_data"
    }
   ],
   "source": [
    "sns.countplot(x='CODE_GENDER', hue='FLAG_OWN_CAR', data=df)"
   ]
  },
  {
   "cell_type": "code",
   "execution_count": 14,
   "id": "a9073a77",
   "metadata": {},
   "outputs": [
    {
     "data": {
      "text/plain": [
       "<AxesSubplot:xlabel='CODE_GENDER'>"
      ]
     },
     "execution_count": 14,
     "metadata": {},
     "output_type": "execute_result"
    },
    {
     "data": {
      "image/png": "[encoded data removed]",
      "text/plain": [
       "<Figure size 432x288 with 1 Axes>"
      ]
     },
     "metadata": {
      "needs_background": "light"
     },
     "output_type": "display_data"
    }
   ],
   "source": [
    "df.pivot_table(index=['CODE_GENDER'],columns='FLAG_OWN_CAR',aggfunc='size').plot(kind='bar')"
   ]
  },
  {
   "cell_type": "code",
   "execution_count": 11,
   "id": "39c61d8e",
   "metadata": {},
   "outputs": [
    {
     "data": {
      "text/plain": [
       "F    294440\n",
       "M    144117\n",
       "Name: CODE_GENDER, dtype: int64"
      ]
     },
     "execution_count": 11,
     "metadata": {},
     "output_type": "execute_result"
    }
   ],
   "source": [
    "# The outcome from the above plot:\n",
    "df['CODE_GENDER'].value_counts()\n"
   ]
  },
  {
   "cell_type": "code",
   "execution_count": 12,
   "id": "b183389d",
   "metadata": {},
   "outputs": [
    {
     "data": {
      "text/plain": [
       "N    275459\n",
       "Y    163098\n",
       "Name: FLAG_OWN_CAR, dtype: int64"
      ]
     },
     "execution_count": 12,
     "metadata": {},
     "output_type": "execute_result"
    }
   ],
   "source": [
    "df['FLAG_OWN_CAR'].value_counts()"
   ]
  },
  {
   "cell_type": "code",
   "execution_count": null,
   "id": "c029ee2d",
   "metadata": {},
   "outputs": [],
   "source": [
    "# Inference from above plot:\n",
    "# Number of working female not having own car is much higher as compared to working males not having own car  \n",
    "# Number of working female having own car is much lesser as compared to working males having own car"
   ]
  }
 ],
 "metadata": {
  "kernelspec": {
   "display_name": "Python 3 (ipykernel)",
   "language": "python",
   "name": "python3"
  },
  "language_info": {
   "codemirror_mode": {
    "name": "ipython",
    "version": 3
   },
   "file_extension": ".py",
   "mimetype": "text/x-python",
   "name": "python",
   "nbconvert_exporter": "python",
   "pygments_lexer": "ipython3",
   "version": "3.9.7"
  }
 },
 "nbformat": 4,
 "nbformat_minor": 5
}
